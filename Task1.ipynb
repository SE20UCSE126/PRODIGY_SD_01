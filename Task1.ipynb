{
 "cells": [
  {
   "cell_type": "code",
   "execution_count": 1,
   "id": "74379668",
   "metadata": {},
   "outputs": [
    {
     "name": "stdout",
     "output_type": "stream",
     "text": [
      "Enter the temperature value: 25\n",
      "Enter the unit of measurement (C for Celsius, F for Fahrenheit, K for Kelvin): C\n",
      "Converted Temperatures : \n",
      "Fahrenheit: 77.00\n",
      "Kelvin: 298.15\n"
     ]
    }
   ],
   "source": [
    "def celsius_to_fahrenheit(celsius):\n",
    "    return (celsius * 9/5) + 32\n",
    "\n",
    "def celsius_to_kelvin(celsius):\n",
    "    return celsius + 273.15\n",
    "\n",
    "def fahrenheit_to_celsius(fahrenheit):\n",
    "    return (fahrenheit - 32) * 5/9\n",
    "\n",
    "def fahrenheit_to_kelvin(fahrenheit):\n",
    "    return (fahrenheit - 32) * 5/9 + 273.15\n",
    "\n",
    "def kelvin_to_celsius(kelvin):\n",
    "    return kelvin - 273.15\n",
    "\n",
    "def kelvin_to_fahrenheit(kelvin):\n",
    "    return (kelvin - 273.15) * 9/5 + 32\n",
    "\n",
    "def convert_temperature(temp, unit):\n",
    "    if unit.lower() == 'c':\n",
    "        celsius = temp\n",
    "        fahrenheit = celsius_to_fahrenheit(celsius)\n",
    "        kelvin = celsius_to_kelvin(celsius)\n",
    "        return fahrenheit, kelvin\n",
    "    elif unit.lower() == 'f':\n",
    "        fahrenheit = temp\n",
    "        celsius = fahrenheit_to_celsius(fahrenheit)\n",
    "        kelvin = fahrenheit_to_kelvin(fahrenheit)\n",
    "        return celsius, kelvin\n",
    "    elif unit.lower() == 'k':\n",
    "        kelvin = temp\n",
    "        celsius = kelvin_to_celsius(kelvin)\n",
    "        fahrenheit = kelvin_to_fahrenheit(kelvin)\n",
    "        return celsius, fahrenheit\n",
    "    else:\n",
    "        return \"Invalid unit\"\n",
    "\n",
    "def main():\n",
    "    temp = float(input(\"Enter the temperature value: \"))\n",
    "    unit = input(\"Enter the unit of measurement (C for Celsius, F for Fahrenheit, K for Kelvin): \")\n",
    "\n",
    "    converted_values = convert_temperature(temp, unit)\n",
    "\n",
    "    print(\"Converted Temperatures : \")\n",
    "    \n",
    "    if isinstance(converted_values, tuple):\n",
    "        if unit.lower() == 'c':\n",
    "            print(f\"Fahrenheit: {converted_values[0]:.2f}\")\n",
    "            print(f\"Kelvin: {converted_values[1]:.2f}\")\n",
    "        elif unit.lower() == 'f':\n",
    "            print(f\"Celsius: {converted_values[0]:.2f}\")\n",
    "            print(f\"Kelvin: {converted_values[1]:.2f}\")\n",
    "        elif unit.lower() == 'k':\n",
    "            print(f\"Celsis: {converted_values[0]:.2f}\")\n",
    "            print(f\"Kelvin: {converted_values[1]:.2f}\")\n",
    "            print(f\"{temp} Kelvin is equal to {converted_values[0]:.2f} degrees Celsius and {converted_values[1]:.2f} degrees Fahrenheit.\")\n",
    "    else:\n",
    "        print(converted_values)\n",
    "\n",
    "if __name__ == \"__main__\":\n",
    "    main()\n"
   ]
  },
  {
   "cell_type": "code",
   "execution_count": null,
   "id": "f5834693",
   "metadata": {},
   "outputs": [],
   "source": []
  }
 ],
 "metadata": {
  "kernelspec": {
   "display_name": "Python 3 (ipykernel)",
   "language": "python",
   "name": "python3"
  },
  "language_info": {
   "codemirror_mode": {
    "name": "ipython",
    "version": 3
   },
   "file_extension": ".py",
   "mimetype": "text/x-python",
   "name": "python",
   "nbconvert_exporter": "python",
   "pygments_lexer": "ipython3",
   "version": "3.9.12"
  }
 },
 "nbformat": 4,
 "nbformat_minor": 5
}
